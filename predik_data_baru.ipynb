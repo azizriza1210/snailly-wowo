{
 "cells": [
  {
   "cell_type": "code",
   "execution_count": 1,
   "id": "ba530efd",
   "metadata": {},
   "outputs": [],
   "source": [
    "import joblib\n",
    "\n",
    "# Muat model dan vectorizer\n",
    "svm_model = joblib.load('svm_model.pkl')\n",
    "tfidf_vectorizer = joblib.load('tfidf_vectorizer.pkl')"
   ]
  },
  {
   "cell_type": "code",
   "execution_count": 3,
   "id": "623d0be5",
   "metadata": {},
   "outputs": [],
   "source": [
    "import re\n",
    "import pandas as pd\n",
    "\n",
    "def preprocess_text(text):\n",
    "    \"\"\"Fungsi preprocessing yang sama seperti saat training\"\"\"\n",
    "    if pd.isna(text):\n",
    "        return \"\"\n",
    "    \n",
    "    text = str(text).lower()\n",
    "    text = re.sub(r'[^a-zA-Z\\s]', ' ', text)\n",
    "    text = ' '.join(text.split())\n",
    "    return text\n",
    "\n",
    "# Contoh data baru (bisa dari input user, file, atau database)\n",
    "new_data = [\n",
    "    \"http://malicious-site.com/steal-data\",  # Contoh URL berbahaya\n",
    "    \"https://google.com/search\",             # Contoh URL aman\n",
    "    \"click this link: http://phishing.com\"   # Contoh URL berbahaya\n",
    "]\n",
    "\n",
    "# Preprocess teks\n",
    "new_data_processed = [preprocess_text(text) for text in new_data]"
   ]
  },
  {
   "cell_type": "code",
   "execution_count": 4,
   "id": "fa2f706f",
   "metadata": {},
   "outputs": [],
   "source": [
    "# Transformasi teks baru ke TF-IDF\n",
    "new_data_tfidf = tfidf_vectorizer.transform(new_data_processed)"
   ]
  },
  {
   "cell_type": "code",
   "execution_count": 5,
   "id": "87088523",
   "metadata": {},
   "outputs": [
    {
     "name": "stdout",
     "output_type": "stream",
     "text": [
      "URL: http://malicious-site.com/steal-data\n",
      "Prediksi: berbahaya\n",
      "Probabilitas: {'aman': np.float64(0.44807460913160846), 'berbahaya': np.float64(0.5519253908683914)}\n",
      "---\n",
      "URL: https://google.com/search\n",
      "Prediksi: berbahaya\n",
      "Probabilitas: {'aman': np.float64(0.31718201661214074), 'berbahaya': np.float64(0.6828179833878593)}\n",
      "---\n",
      "URL: click this link: http://phishing.com\n",
      "Prediksi: berbahaya\n",
      "Probabilitas: {'aman': np.float64(0.17127672047807257), 'berbahaya': np.float64(0.8287232795219274)}\n",
      "---\n"
     ]
    }
   ],
   "source": [
    "# Prediksi label\n",
    "predictions = svm_model.predict(new_data_tfidf)\n",
    "\n",
    "# Prediksi probabilitas (jika diperlukan)\n",
    "prediction_probas = svm_model.predict_proba(new_data_tfidf)\n",
    "\n",
    "# Tampilkan hasil\n",
    "for text, pred, proba in zip(new_data, predictions, prediction_probas):\n",
    "    print(f\"URL: {text}\")\n",
    "    print(f\"Prediksi: {pred}\")\n",
    "    print(f\"Probabilitas: {dict(zip(svm_model.classes_, proba))}\")\n",
    "    print(\"---\")"
   ]
  }
 ],
 "metadata": {
  "kernelspec": {
   "display_name": "snailly-wowo",
   "language": "python",
   "name": "python3"
  },
  "language_info": {
   "codemirror_mode": {
    "name": "ipython",
    "version": 3
   },
   "file_extension": ".py",
   "mimetype": "text/x-python",
   "name": "python",
   "nbconvert_exporter": "python",
   "pygments_lexer": "ipython3",
   "version": "3.10.18"
  }
 },
 "nbformat": 4,
 "nbformat_minor": 5
}
