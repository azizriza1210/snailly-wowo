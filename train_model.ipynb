{
 "cells": [
  {
   "cell_type": "markdown",
   "id": "f15a00ba",
   "metadata": {},
   "source": [
    "# <h3><b>Import Libraries"
   ]
  },
  {
   "cell_type": "code",
   "execution_count": 7,
   "id": "0ef46fbb",
   "metadata": {},
   "outputs": [
    {
     "name": "stdout",
     "output_type": "stream",
     "text": [
      "Library berhasil diimport!\n"
     ]
    }
   ],
   "source": [
    "# Import library yang diperlukan\n",
    "import pandas as pd\n",
    "import numpy as np\n",
    "from sklearn.model_selection import train_test_split\n",
    "from sklearn.feature_extraction.text import TfidfVectorizer\n",
    "from sklearn.svm import SVC\n",
    "from sklearn.metrics import accuracy_score, classification_report, confusion_matrix\n",
    "from sklearn.preprocessing import LabelEncoder\n",
    "import matplotlib.pyplot as plt\n",
    "import seaborn as sns\n",
    "import re\n",
    "import warnings\n",
    "warnings.filterwarnings('ignore')\n",
    "\n",
    "print(\"Library berhasil diimport!\")"
   ]
  },
  {
   "cell_type": "markdown",
   "id": "a0448082",
   "metadata": {},
   "source": [
    "# <h3><b>Load Data"
   ]
  },
  {
   "cell_type": "code",
   "execution_count": 8,
   "id": "a2106e62",
   "metadata": {},
   "outputs": [
    {
     "name": "stdout",
     "output_type": "stream",
     "text": [
      "Membaca data dari datatrain.xlsx...\n",
      "Data berhasil dibaca! Shape: (385, 3)\n",
      "\n",
      "Info dataset:\n",
      "<class 'pandas.core.frame.DataFrame'>\n",
      "RangeIndex: 385 entries, 0 to 384\n",
      "Data columns (total 3 columns):\n",
      " #   Column  Non-Null Count  Dtype \n",
      "---  ------  --------------  ----- \n",
      " 0   url     373 non-null    object\n",
      " 1   text    367 non-null    object\n",
      " 2   label   369 non-null    object\n",
      "dtypes: object(3)\n",
      "memory usage: 9.1+ KB\n",
      "None\n",
      "\n",
      "Sample data:\n",
      "                    url                                               text  \\\n",
      "0   https://pornhub.com  Free Porn Videos & Sex Movies - Porno, XXX, Po...   \n",
      "1   https://xvideos.com  Free Porn Videos - XVIDEOS.COM WARNING This si...   \n",
      "2  https://xhamster.com  Free Porn Videos & Sex Tube Movies at xHamster...   \n",
      "3   https://redtube.com  Free Porn Sex Videos - Redtube - XXX Movies - ...   \n",
      "4      https://xnxx.com  Free Porn, Sex, Tube Videos, XXX Pics, Pussy i...   \n",
      "\n",
      "       label  \n",
      "0  berbahaya  \n",
      "1  berbahaya  \n",
      "2  berbahaya  \n",
      "3  berbahaya  \n",
      "4  berbahaya  \n"
     ]
    }
   ],
   "source": [
    "print(\"Membaca data dari datatrain.xlsx...\")\n",
    "try:\n",
    "    df = pd.read_excel('datatrain.xlsx')\n",
    "    print(f\"Data berhasil dibaca! Shape: {df.shape}\")\n",
    "    print(\"\\nInfo dataset:\")\n",
    "    print(df.info())\n",
    "    print(\"\\nSample data:\")\n",
    "    print(df.head())\n",
    "except FileNotFoundError:\n",
    "    print(\"File datatrain.xlsx tidak ditemukan. Pastikan file berada di direktori yang sama.\")\n",
    "except Exception as e:\n",
    "    print(f\"Error membaca file: {e}\")\n"
   ]
  },
  {
   "cell_type": "markdown",
   "id": "5d6824d0",
   "metadata": {},
   "source": [
    "# <h3><b>Simple EDA"
   ]
  },
  {
   "cell_type": "code",
   "execution_count": 9,
   "id": "fd44072b",
   "metadata": {},
   "outputs": [
    {
     "name": "stdout",
     "output_type": "stream",
     "text": [
      "\n",
      "=== EKSPLORASI DATA ===\n",
      "Jumlah data: 385\n",
      "Kolom yang tersedia: ['url', 'text', 'label']\n",
      "\n",
      "Distribusi label:\n",
      "label\n",
      "aman         188\n",
      "berbahaya    181\n",
      "Name: count, dtype: int64\n",
      "\n",
      "Persentase label:\n",
      "label\n",
      "aman         50.948509\n",
      "berbahaya    49.051491\n",
      "Name: proportion, dtype: float64\n",
      "\n",
      "Missing values:\n",
      "url      12\n",
      "text     18\n",
      "label    16\n",
      "dtype: int64\n"
     ]
    },
    {
     "data": {
      "image/png": "[encoded data removed]",
      "text/plain": [
       "<Figure size 800x600 with 1 Axes>"
      ]
     },
     "metadata": {},
     "output_type": "display_data"
    }
   ],
   "source": [
    "# Eksplorasi data\n",
    "print(\"\\n=== EKSPLORASI DATA ===\")\n",
    "print(f\"Jumlah data: {len(df)}\")\n",
    "print(f\"Kolom yang tersedia: {df.columns.tolist()}\")\n",
    "print(\"\\nDistribusi label:\")\n",
    "print(df['label'].value_counts())\n",
    "print(\"\\nPersentase label:\")\n",
    "print(df['label'].value_counts(normalize=True) * 100)\n",
    "\n",
    "# Cek missing values\n",
    "print(\"\\nMissing values:\")\n",
    "print(df.isnull().sum())\n",
    "\n",
    "# Visualisasi distribusi label\n",
    "plt.figure(figsize=(8, 6))\n",
    "df['label'].value_counts().plot(kind='bar', color=['lightcoral', 'lightblue'])\n",
    "plt.title('Distribusi Label Dataset')\n",
    "plt.xlabel('Label')\n",
    "plt.ylabel('Jumlah')\n",
    "plt.xticks(rotation=0)\n",
    "plt.tight_layout()\n",
    "plt.show()"
   ]
  },
  {
   "cell_type": "markdown",
   "id": "0fbe6ada",
   "metadata": {},
   "source": [
    "# <h3><b>Prepos"
   ]
  },
  {
   "cell_type": "code",
   "execution_count": 10,
   "id": "d0cc9fc9",
   "metadata": {},
   "outputs": [
    {
     "name": "stdout",
     "output_type": "stream",
     "text": [
      "\n",
      "=== PREPROCESSING DATA ===\n",
      "Jumlah data setelah preprocessing: 366\n",
      "Jumlah sampel: 366\n",
      "Distribusi label setelah preprocessing:\n",
      "label\n",
      "aman         183\n",
      "berbahaya    175\n",
      "Name: count, dtype: int64\n"
     ]
    }
   ],
   "source": [
    "# Preprocessing text\n",
    "def preprocess_text(text):\n",
    "    \"\"\"\n",
    "    Fungsi untuk preprocessing teks\n",
    "    \"\"\"\n",
    "    if pd.isna(text):\n",
    "        return \"\"\n",
    "    \n",
    "    # Convert to lowercase\n",
    "    text = str(text).lower()\n",
    "    \n",
    "    # Remove special characters and numbers (opsional)\n",
    "    text = re.sub(r'[^a-zA-Z\\s]', ' ', text)\n",
    "    \n",
    "    # Remove extra whitespaces\n",
    "    text = ' '.join(text.split())\n",
    "    \n",
    "    return text\n",
    "\n",
    "print(\"\\n=== PREPROCESSING DATA ===\")\n",
    "# Apply preprocessing\n",
    "df['text_processed'] = df['text'].apply(preprocess_text)\n",
    "\n",
    "# Remove rows with empty text\n",
    "df = df[df['text_processed'].str.len() > 0]\n",
    "print(f\"Jumlah data setelah preprocessing: {len(df)}\")\n",
    "\n",
    "# Prepare features and target\n",
    "X = df['text_processed']\n",
    "y = df['label']\n",
    "\n",
    "print(f\"Jumlah sampel: {len(X)}\")\n",
    "print(f\"Distribusi label setelah preprocessing:\")\n",
    "print(y.value_counts())"
   ]
  },
  {
   "cell_type": "markdown",
   "id": "0109b602",
   "metadata": {},
   "source": [
    "# <h3><b> Split Data"
   ]
  },
  {
   "cell_type": "code",
   "execution_count": 11,
   "id": "31f5e66c",
   "metadata": {},
   "outputs": [
    {
     "name": "stdout",
     "output_type": "stream",
     "text": [
      "\n",
      "=== SPLIT DATA ===\n"
     ]
    },
    {
     "ename": "ValueError",
     "evalue": "Input contains NaN",
     "output_type": "error",
     "traceback": [
      "\u001b[1;31m---------------------------------------------------------------------------\u001b[0m",
      "\u001b[1;31mValueError\u001b[0m                                Traceback (most recent call last)",
      "Cell \u001b[1;32mIn[11], line 2\u001b[0m\n\u001b[0;32m      1\u001b[0m \u001b[38;5;28mprint\u001b[39m(\u001b[38;5;124m\"\u001b[39m\u001b[38;5;130;01m\\n\u001b[39;00m\u001b[38;5;124m=== SPLIT DATA ===\u001b[39m\u001b[38;5;124m\"\u001b[39m)\n\u001b[1;32m----> 2\u001b[0m X_train, X_test, y_train, y_test \u001b[38;5;241m=\u001b[39m \u001b[43mtrain_test_split\u001b[49m\u001b[43m(\u001b[49m\n\u001b[0;32m      3\u001b[0m \u001b[43m    \u001b[49m\u001b[43mX\u001b[49m\u001b[43m,\u001b[49m\u001b[43m \u001b[49m\u001b[43my\u001b[49m\u001b[43m,\u001b[49m\u001b[43m \u001b[49m\n\u001b[0;32m      4\u001b[0m \u001b[43m    \u001b[49m\u001b[43mtest_size\u001b[49m\u001b[38;5;241;43m=\u001b[39;49m\u001b[38;5;241;43m0.2\u001b[39;49m\u001b[43m,\u001b[49m\u001b[43m \u001b[49m\n\u001b[0;32m      5\u001b[0m \u001b[43m    \u001b[49m\u001b[43mstratify\u001b[49m\u001b[38;5;241;43m=\u001b[39;49m\u001b[43my\u001b[49m\u001b[43m,\u001b[49m\u001b[43m \u001b[49m\n\u001b[0;32m      6\u001b[0m \u001b[43m    \u001b[49m\u001b[43mrandom_state\u001b[49m\u001b[38;5;241;43m=\u001b[39;49m\u001b[38;5;241;43m42\u001b[39;49m\n\u001b[0;32m      7\u001b[0m \u001b[43m)\u001b[49m\n\u001b[0;32m      9\u001b[0m \u001b[38;5;28mprint\u001b[39m(\u001b[38;5;124mf\u001b[39m\u001b[38;5;124m\"\u001b[39m\u001b[38;5;124mData training: \u001b[39m\u001b[38;5;132;01m{\u001b[39;00m\u001b[38;5;28mlen\u001b[39m(X_train)\u001b[38;5;132;01m}\u001b[39;00m\u001b[38;5;124m sampel\u001b[39m\u001b[38;5;124m\"\u001b[39m)\n\u001b[0;32m     10\u001b[0m \u001b[38;5;28mprint\u001b[39m(\u001b[38;5;124mf\u001b[39m\u001b[38;5;124m\"\u001b[39m\u001b[38;5;124mData testing: \u001b[39m\u001b[38;5;132;01m{\u001b[39;00m\u001b[38;5;28mlen\u001b[39m(X_test)\u001b[38;5;132;01m}\u001b[39;00m\u001b[38;5;124m sampel\u001b[39m\u001b[38;5;124m\"\u001b[39m)\n",
      "File \u001b[1;32mc:\\Users\\saita\\anaconda3\\envs\\snailly-wowo\\lib\\site-packages\\sklearn\\utils\\_param_validation.py:218\u001b[0m, in \u001b[0;36mvalidate_params.<locals>.decorator.<locals>.wrapper\u001b[1;34m(*args, **kwargs)\u001b[0m\n\u001b[0;32m    212\u001b[0m \u001b[38;5;28;01mtry\u001b[39;00m:\n\u001b[0;32m    213\u001b[0m     \u001b[38;5;28;01mwith\u001b[39;00m config_context(\n\u001b[0;32m    214\u001b[0m         skip_parameter_validation\u001b[38;5;241m=\u001b[39m(\n\u001b[0;32m    215\u001b[0m             prefer_skip_nested_validation \u001b[38;5;129;01mor\u001b[39;00m global_skip_validation\n\u001b[0;32m    216\u001b[0m         )\n\u001b[0;32m    217\u001b[0m     ):\n\u001b[1;32m--> 218\u001b[0m         \u001b[38;5;28;01mreturn\u001b[39;00m func(\u001b[38;5;241m*\u001b[39margs, \u001b[38;5;241m*\u001b[39m\u001b[38;5;241m*\u001b[39mkwargs)\n\u001b[0;32m    219\u001b[0m \u001b[38;5;28;01mexcept\u001b[39;00m InvalidParameterError \u001b[38;5;28;01mas\u001b[39;00m e:\n\u001b[0;32m    220\u001b[0m     \u001b[38;5;66;03m# When the function is just a wrapper around an estimator, we allow\u001b[39;00m\n\u001b[0;32m    221\u001b[0m     \u001b[38;5;66;03m# the function to delegate validation to the estimator, but we replace\u001b[39;00m\n\u001b[0;32m    222\u001b[0m     \u001b[38;5;66;03m# the name of the estimator by the name of the function in the error\u001b[39;00m\n\u001b[0;32m    223\u001b[0m     \u001b[38;5;66;03m# message to avoid confusion.\u001b[39;00m\n\u001b[0;32m    224\u001b[0m     msg \u001b[38;5;241m=\u001b[39m re\u001b[38;5;241m.\u001b[39msub(\n\u001b[0;32m    225\u001b[0m         \u001b[38;5;124mr\u001b[39m\u001b[38;5;124m\"\u001b[39m\u001b[38;5;124mparameter of \u001b[39m\u001b[38;5;124m\\\u001b[39m\u001b[38;5;124mw+ must be\u001b[39m\u001b[38;5;124m\"\u001b[39m,\n\u001b[0;32m    226\u001b[0m         \u001b[38;5;124mf\u001b[39m\u001b[38;5;124m\"\u001b[39m\u001b[38;5;124mparameter of \u001b[39m\u001b[38;5;132;01m{\u001b[39;00mfunc\u001b[38;5;241m.\u001b[39m\u001b[38;5;18m__qualname__\u001b[39m\u001b[38;5;132;01m}\u001b[39;00m\u001b[38;5;124m must be\u001b[39m\u001b[38;5;124m\"\u001b[39m,\n\u001b[0;32m    227\u001b[0m         \u001b[38;5;28mstr\u001b[39m(e),\n\u001b[0;32m    228\u001b[0m     )\n",
      "File \u001b[1;32mc:\\Users\\saita\\anaconda3\\envs\\snailly-wowo\\lib\\site-packages\\sklearn\\model_selection\\_split.py:2940\u001b[0m, in \u001b[0;36mtrain_test_split\u001b[1;34m(test_size, train_size, random_state, shuffle, stratify, *arrays)\u001b[0m\n\u001b[0;32m   2936\u001b[0m         CVClass \u001b[38;5;241m=\u001b[39m ShuffleSplit\n\u001b[0;32m   2938\u001b[0m     cv \u001b[38;5;241m=\u001b[39m CVClass(test_size\u001b[38;5;241m=\u001b[39mn_test, train_size\u001b[38;5;241m=\u001b[39mn_train, random_state\u001b[38;5;241m=\u001b[39mrandom_state)\n\u001b[1;32m-> 2940\u001b[0m     train, test \u001b[38;5;241m=\u001b[39m \u001b[38;5;28mnext\u001b[39m(\u001b[43mcv\u001b[49m\u001b[38;5;241;43m.\u001b[39;49m\u001b[43msplit\u001b[49m\u001b[43m(\u001b[49m\u001b[43mX\u001b[49m\u001b[38;5;241;43m=\u001b[39;49m\u001b[43marrays\u001b[49m\u001b[43m[\u001b[49m\u001b[38;5;241;43m0\u001b[39;49m\u001b[43m]\u001b[49m\u001b[43m,\u001b[49m\u001b[43m \u001b[49m\u001b[43my\u001b[49m\u001b[38;5;241;43m=\u001b[39;49m\u001b[43mstratify\u001b[49m\u001b[43m)\u001b[49m)\n\u001b[0;32m   2942\u001b[0m train, test \u001b[38;5;241m=\u001b[39m ensure_common_namespace_device(arrays[\u001b[38;5;241m0\u001b[39m], train, test)\n\u001b[0;32m   2944\u001b[0m \u001b[38;5;28;01mreturn\u001b[39;00m \u001b[38;5;28mlist\u001b[39m(\n\u001b[0;32m   2945\u001b[0m     chain\u001b[38;5;241m.\u001b[39mfrom_iterable(\n\u001b[0;32m   2946\u001b[0m         (_safe_indexing(a, train), _safe_indexing(a, test)) \u001b[38;5;28;01mfor\u001b[39;00m a \u001b[38;5;129;01min\u001b[39;00m arrays\n\u001b[0;32m   2947\u001b[0m     )\n\u001b[0;32m   2948\u001b[0m )\n",
      "File \u001b[1;32mc:\\Users\\saita\\anaconda3\\envs\\snailly-wowo\\lib\\site-packages\\sklearn\\model_selection\\_split.py:2429\u001b[0m, in \u001b[0;36mStratifiedShuffleSplit.split\u001b[1;34m(self, X, y, groups)\u001b[0m\n\u001b[0;32m   2424\u001b[0m \u001b[38;5;28;01mif\u001b[39;00m groups \u001b[38;5;129;01mis\u001b[39;00m \u001b[38;5;129;01mnot\u001b[39;00m \u001b[38;5;28;01mNone\u001b[39;00m:\n\u001b[0;32m   2425\u001b[0m     warnings\u001b[38;5;241m.\u001b[39mwarn(\n\u001b[0;32m   2426\u001b[0m         \u001b[38;5;124mf\u001b[39m\u001b[38;5;124m\"\u001b[39m\u001b[38;5;124mThe groups parameter is ignored by \u001b[39m\u001b[38;5;132;01m{\u001b[39;00m\u001b[38;5;28mself\u001b[39m\u001b[38;5;241m.\u001b[39m\u001b[38;5;18m__class__\u001b[39m\u001b[38;5;241m.\u001b[39m\u001b[38;5;18m__name__\u001b[39m\u001b[38;5;132;01m}\u001b[39;00m\u001b[38;5;124m\"\u001b[39m,\n\u001b[0;32m   2427\u001b[0m         \u001b[38;5;167;01mUserWarning\u001b[39;00m,\n\u001b[0;32m   2428\u001b[0m     )\n\u001b[1;32m-> 2429\u001b[0m y \u001b[38;5;241m=\u001b[39m \u001b[43mcheck_array\u001b[49m\u001b[43m(\u001b[49m\u001b[43my\u001b[49m\u001b[43m,\u001b[49m\u001b[43m \u001b[49m\u001b[43minput_name\u001b[49m\u001b[38;5;241;43m=\u001b[39;49m\u001b[38;5;124;43m\"\u001b[39;49m\u001b[38;5;124;43my\u001b[39;49m\u001b[38;5;124;43m\"\u001b[39;49m\u001b[43m,\u001b[49m\u001b[43m \u001b[49m\u001b[43mensure_2d\u001b[49m\u001b[38;5;241;43m=\u001b[39;49m\u001b[38;5;28;43;01mFalse\u001b[39;49;00m\u001b[43m,\u001b[49m\u001b[43m \u001b[49m\u001b[43mdtype\u001b[49m\u001b[38;5;241;43m=\u001b[39;49m\u001b[38;5;28;43;01mNone\u001b[39;49;00m\u001b[43m)\u001b[49m\n\u001b[0;32m   2430\u001b[0m \u001b[38;5;28;01mreturn\u001b[39;00m \u001b[38;5;28msuper\u001b[39m()\u001b[38;5;241m.\u001b[39msplit(X, y, groups)\n",
      "File \u001b[1;32mc:\\Users\\saita\\anaconda3\\envs\\snailly-wowo\\lib\\site-packages\\sklearn\\utils\\validation.py:1105\u001b[0m, in \u001b[0;36mcheck_array\u001b[1;34m(array, accept_sparse, accept_large_sparse, dtype, order, copy, force_writeable, force_all_finite, ensure_all_finite, ensure_non_negative, ensure_2d, allow_nd, ensure_min_samples, ensure_min_features, estimator, input_name)\u001b[0m\n\u001b[0;32m   1099\u001b[0m     \u001b[38;5;28;01mraise\u001b[39;00m \u001b[38;5;167;01mValueError\u001b[39;00m(\n\u001b[0;32m   1100\u001b[0m         \u001b[38;5;124mf\u001b[39m\u001b[38;5;124m\"\u001b[39m\u001b[38;5;124mFound array with dim \u001b[39m\u001b[38;5;132;01m{\u001b[39;00marray\u001b[38;5;241m.\u001b[39mndim\u001b[38;5;132;01m}\u001b[39;00m\u001b[38;5;124m,\u001b[39m\u001b[38;5;124m\"\u001b[39m\n\u001b[0;32m   1101\u001b[0m         \u001b[38;5;124mf\u001b[39m\u001b[38;5;124m\"\u001b[39m\u001b[38;5;124m while dim <= 2 is required\u001b[39m\u001b[38;5;132;01m{\u001b[39;00mcontext\u001b[38;5;132;01m}\u001b[39;00m\u001b[38;5;124m.\u001b[39m\u001b[38;5;124m\"\u001b[39m\n\u001b[0;32m   1102\u001b[0m     )\n\u001b[0;32m   1104\u001b[0m \u001b[38;5;28;01mif\u001b[39;00m ensure_all_finite:\n\u001b[1;32m-> 1105\u001b[0m     \u001b[43m_assert_all_finite\u001b[49m\u001b[43m(\u001b[49m\n\u001b[0;32m   1106\u001b[0m \u001b[43m        \u001b[49m\u001b[43marray\u001b[49m\u001b[43m,\u001b[49m\n\u001b[0;32m   1107\u001b[0m \u001b[43m        \u001b[49m\u001b[43minput_name\u001b[49m\u001b[38;5;241;43m=\u001b[39;49m\u001b[43minput_name\u001b[49m\u001b[43m,\u001b[49m\n\u001b[0;32m   1108\u001b[0m \u001b[43m        \u001b[49m\u001b[43mestimator_name\u001b[49m\u001b[38;5;241;43m=\u001b[39;49m\u001b[43mestimator_name\u001b[49m\u001b[43m,\u001b[49m\n\u001b[0;32m   1109\u001b[0m \u001b[43m        \u001b[49m\u001b[43mallow_nan\u001b[49m\u001b[38;5;241;43m=\u001b[39;49m\u001b[43mensure_all_finite\u001b[49m\u001b[43m \u001b[49m\u001b[38;5;241;43m==\u001b[39;49m\u001b[43m \u001b[49m\u001b[38;5;124;43m\"\u001b[39;49m\u001b[38;5;124;43mallow-nan\u001b[39;49m\u001b[38;5;124;43m\"\u001b[39;49m\u001b[43m,\u001b[49m\n\u001b[0;32m   1110\u001b[0m \u001b[43m    \u001b[49m\u001b[43m)\u001b[49m\n\u001b[0;32m   1112\u001b[0m \u001b[38;5;28;01mif\u001b[39;00m copy:\n\u001b[0;32m   1113\u001b[0m     \u001b[38;5;28;01mif\u001b[39;00m _is_numpy_namespace(xp):\n\u001b[0;32m   1114\u001b[0m         \u001b[38;5;66;03m# only make a copy if `array` and `array_orig` may share memory`\u001b[39;00m\n",
      "File \u001b[1;32mc:\\Users\\saita\\anaconda3\\envs\\snailly-wowo\\lib\\site-packages\\sklearn\\utils\\validation.py:105\u001b[0m, in \u001b[0;36m_assert_all_finite\u001b[1;34m(X, allow_nan, msg_dtype, estimator_name, input_name)\u001b[0m\n\u001b[0;32m    103\u001b[0m \u001b[38;5;28;01mif\u001b[39;00m \u001b[38;5;129;01mnot\u001b[39;00m is_array_api \u001b[38;5;129;01mand\u001b[39;00m X\u001b[38;5;241m.\u001b[39mdtype \u001b[38;5;241m==\u001b[39m np\u001b[38;5;241m.\u001b[39mdtype(\u001b[38;5;124m\"\u001b[39m\u001b[38;5;124mobject\u001b[39m\u001b[38;5;124m\"\u001b[39m) \u001b[38;5;129;01mand\u001b[39;00m \u001b[38;5;129;01mnot\u001b[39;00m allow_nan:\n\u001b[0;32m    104\u001b[0m     \u001b[38;5;28;01mif\u001b[39;00m _object_dtype_isnan(X)\u001b[38;5;241m.\u001b[39many():\n\u001b[1;32m--> 105\u001b[0m         \u001b[38;5;28;01mraise\u001b[39;00m \u001b[38;5;167;01mValueError\u001b[39;00m(\u001b[38;5;124m\"\u001b[39m\u001b[38;5;124mInput contains NaN\u001b[39m\u001b[38;5;124m\"\u001b[39m)\n\u001b[0;32m    107\u001b[0m \u001b[38;5;66;03m# We need only consider float arrays, hence can early return for all else.\u001b[39;00m\n\u001b[0;32m    108\u001b[0m \u001b[38;5;28;01mif\u001b[39;00m \u001b[38;5;129;01mnot\u001b[39;00m xp\u001b[38;5;241m.\u001b[39misdtype(X\u001b[38;5;241m.\u001b[39mdtype, (\u001b[38;5;124m\"\u001b[39m\u001b[38;5;124mreal floating\u001b[39m\u001b[38;5;124m\"\u001b[39m, \u001b[38;5;124m\"\u001b[39m\u001b[38;5;124mcomplex floating\u001b[39m\u001b[38;5;124m\"\u001b[39m)):\n",
      "\u001b[1;31mValueError\u001b[0m: Input contains NaN"
     ]
    }
   ],
   "source": [
    "print(\"\\n=== SPLIT DATA ===\")\n",
    "X_train, X_test, y_train, y_test = train_test_split(\n",
    "    X, y, \n",
    "    test_size=0.2, \n",
    "    stratify=y, \n",
    "    random_state=42\n",
    ")\n",
    "\n",
    "print(f\"Data training: {len(X_train)} sampel\")\n",
    "print(f\"Data testing: {len(X_test)} sampel\")\n",
    "print(f\"Distribusi label training: {y_train.value_counts().to_dict()}\")\n",
    "print(f\"Distribusi label testing: {y_test.value_counts().to_dict()}\")\n",
    "\n",
    "# Feature extraction menggunakan TF-IDF\n",
    "print(\"\\n=== FEATURE EXTRACTION ===\")\n",
    "# Inisialisasi TF-IDF Vectorizer\n",
    "tfidf = TfidfVectorizer(\n",
    "    max_features=5000,  # Maksimal 5000 fitur\n",
    "    min_df=2,          # Minimal muncul di 2 dokumen\n",
    "    max_df=0.8,        # Maksimal muncul di 80% dokumen\n",
    "    stop_words='english',  # Hapus stop words bahasa Inggris\n",
    "    ngram_range=(1, 2)     # Unigram dan bigram\n",
    ")\n",
    "\n",
    "# Fit dan transform data training\n",
    "X_train_tfidf = tfidf.fit_transform(X_train)\n",
    "X_test_tfidf = tfidf.transform(X_test)\n",
    "\n",
    "print(f\"Shape X_train_tfidf: {X_train_tfidf.shape}\")\n",
    "print(f\"Shape X_test_tfidf: {X_test_tfidf.shape}\")\n",
    "print(f\"Jumlah fitur TF-IDF: {len(tfidf.get_feature_names_out())}\")"
   ]
  },
  {
   "cell_type": "markdown",
   "id": "895def71",
   "metadata": {},
   "source": [
    "# <h3><b>Training Model"
   ]
  },
  {
   "cell_type": "code",
   "execution_count": null,
   "id": "62de063d",
   "metadata": {},
   "outputs": [],
   "source": [
    "# Training SVM Model\n",
    "print(\"\\n=== TRAINING SVM MODEL ===\")\n",
    "# Inisialisasi SVM classifier\n",
    "svm_model = SVC(\n",
    "    kernel='linear',    # Kernel linear untuk text classification\n",
    "    C=1.0,             # Regularization parameter\n",
    "    random_state=42,\n",
    "    probability=True   # Untuk mendapatkan probabilitas prediksi\n",
    ")\n",
    "\n",
    "# Training model\n",
    "print(\"Memulai training...\")\n",
    "svm_model.fit(X_train_tfidf, y_train)\n",
    "print(\"Training selesai!\")"
   ]
  },
  {
   "cell_type": "markdown",
   "id": "9cc55be5",
   "metadata": {},
   "source": [
    "# <h3><b>Evaluasi Model"
   ]
  },
  {
   "cell_type": "code",
   "execution_count": null,
   "id": "0caabf66",
   "metadata": {},
   "outputs": [],
   "source": [
    "# Prediksi pada data test\n",
    "print(\"\\n=== EVALUASI MODEL ===\")\n",
    "y_pred = svm_model.predict(X_test_tfidf)\n",
    "y_pred_proba = svm_model.predict_proba(X_test_tfidf)\n",
    "\n",
    "# Evaluasi performa\n",
    "accuracy = accuracy_score(y_test, y_pred)\n",
    "print(f\"Akurasi: {accuracy:.4f} ({accuracy*100:.2f}%)\")\n",
    "\n",
    "# Classification report\n",
    "print(\"\\nClassification Report:\")\n",
    "print(classification_report(y_test, y_pred))\n",
    "\n",
    "# Confusion Matrix\n",
    "print(\"\\nConfusion Matrix:\")\n",
    "cm = confusion_matrix(y_test, y_pred)\n",
    "print(cm)\n",
    "\n",
    "# Visualisasi Confusion Matrix\n",
    "plt.figure(figsize=(8, 6))\n",
    "sns.heatmap(cm, annot=True, fmt='d', cmap='Blues', \n",
    "            xticklabels=svm_model.classes_, \n",
    "            yticklabels=svm_model.classes_)\n",
    "plt.title('Confusion Matrix')\n",
    "plt.xlabel('Predicted Label')\n",
    "plt.ylabel('True Label')\n",
    "plt.tight_layout()\n",
    "plt.show()\n",
    "\n",
    "# Analisis fitur penting\n",
    "print(\"\\n=== ANALISIS FITUR PENTING ===\")\n",
    "# Mendapatkan koefisien fitur\n",
    "feature_names = tfidf.get_feature_names_out()\n",
    "coefficients = svm_model.coef_[0]\n",
    "\n",
    "# Membuat DataFrame untuk analisis\n",
    "feature_importance = pd.DataFrame({\n",
    "    'feature': feature_names,\n",
    "    'coefficient': coefficients\n",
    "}).sort_values('coefficient', key=abs, ascending=False)\n",
    "\n",
    "print(\"Top 10 fitur paling penting (positif - berbahaya):\")\n",
    "print(feature_importance.head(10))\n",
    "\n",
    "print(\"\\nTop 10 fitur paling penting (negatif - aman):\")\n",
    "print(feature_importance.tail(10))\n",
    "\n",
    "# Visualisasi top fitur\n",
    "plt.figure(figsize=(12, 8))\n",
    "top_features = pd.concat([feature_importance.head(10), feature_importance.tail(10)])\n",
    "colors = ['red' if x > 0 else 'blue' for x in top_features['coefficient']]\n",
    "plt.barh(range(len(top_features)), top_features['coefficient'], color=colors)\n",
    "plt.yticks(range(len(top_features)), top_features['feature'])\n",
    "plt.xlabel('Koefisien SVM')\n",
    "plt.title('Top 20 Fitur Paling Penting')\n",
    "plt.tight_layout()\n",
    "plt.show()"
   ]
  },
  {
   "cell_type": "markdown",
   "id": "2822d1ab",
   "metadata": {},
   "source": [
    "# <h3><b>Prediksi Data Baru"
   ]
  },
  {
   "cell_type": "code",
   "execution_count": null,
   "id": "22eb55f8",
   "metadata": {},
   "outputs": [],
   "source": [
    "# Fungsi untuk prediksi teks baru\n",
    "def predict_text(text, model=svm_model, vectorizer=tfidf):\n",
    "    \"\"\"\n",
    "    Fungsi untuk memprediksi teks baru\n",
    "    \"\"\"\n",
    "    # Preprocessing\n",
    "    processed_text = preprocess_text(text)\n",
    "    \n",
    "    # Vectorization\n",
    "    text_tfidf = vectorizer.transform([processed_text])\n",
    "    \n",
    "    # Prediksi\n",
    "    prediction = model.predict(text_tfidf)[0]\n",
    "    probability = model.predict_proba(text_tfidf)[0]\n",
    "    \n",
    "    # Confidence score\n",
    "    confidence = max(probability)\n",
    "    \n",
    "    return {\n",
    "        'prediction': prediction,\n",
    "        'confidence': confidence,\n",
    "        'probabilities': dict(zip(model.classes_, probability))\n",
    "    }\n",
    "\n",
    "# Test prediksi dengan contoh\n",
    "print(\"\\n=== TEST PREDIKSI ===\")\n",
    "test_texts = [\n",
    "    \"Click here to win free money now!\",\n",
    "    \"This is a normal website about technology\",\n",
    "    \"Download malware and virus for free\",\n",
    "    \"Learn Python programming tutorial\"\n",
    "]\n",
    "\n",
    "for text in test_texts:\n",
    "    result = predict_text(text)\n",
    "    print(f\"\\nTeks: '{text}'\")\n",
    "    print(f\"Prediksi: {result['prediction']}\")\n",
    "    print(f\"Confidence: {result['confidence']:.4f}\")\n",
    "    print(f\"Probabilitas: {result['probabilities']}\")\n",
    "\n",
    "# Simpan model (opsional)\n",
    "print(\"\\n=== SIMPAN MODEL ===\")\n",
    "import joblib\n",
    "\n",
    "# Simpan model dan vectorizer\n",
    "joblib.dump(svm_model, 'svm_model.pkl')\n",
    "joblib.dump(tfidf, 'tfidf_vectorizer.pkl')\n",
    "print(\"Model dan vectorizer berhasil disimpan!\")\n",
    "\n",
    "# Instruksi untuk load model\n",
    "print(\"\\n=== CARA LOAD MODEL ===\")\n",
    "print(\"Untuk load model yang sudah disimpan:\")\n",
    "print(\"loaded_model = joblib.load('svm_model.pkl')\")\n",
    "print(\"loaded_tfidf = joblib.load('tfidf_vectorizer.pkl')\")\n",
    "\n",
    "print(\"\\n=== TRAINING SELESAI ===\")\n",
    "print(f\"Model SVM berhasil ditraining dengan akurasi: {accuracy:.4f}\")\n",
    "print(\"Model siap digunakan untuk klasifikasi teks!\")"
   ]
  }
 ],
 "metadata": {
  "kernelspec": {
   "display_name": "snailly-wowo",
   "language": "python",
   "name": "python3"
  },
  "language_info": {
   "codemirror_mode": {
    "name": "ipython",
    "version": 3
   },
   "file_extension": ".py",
   "mimetype": "text/x-python",
   "name": "python",
   "nbconvert_exporter": "python",
   "pygments_lexer": "ipython3",
   "version": "3.10.18"
  }
 },
 "nbformat": 4,
 "nbformat_minor": 5
}
